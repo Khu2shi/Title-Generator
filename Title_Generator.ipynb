{
  "nbformat": 4,
  "nbformat_minor": 0,
  "metadata": {
    "colab": {
      "provenance": [],
      "gpuType": "T4"
    },
    "kernelspec": {
      "name": "python3",
      "display_name": "Python 3"
    },
    "language_info": {
      "name": "python"
    },
    "accelerator": "GPU"
  },
  "cells": [
    {
      "cell_type": "code",
      "source": [
        "!nvidia-smi"
      ],
      "metadata": {
        "id": "G5e8uTmZ10bZ"
      },
      "execution_count": null,
      "outputs": []
    },
    {
      "cell_type": "code",
      "source": [
        "# Install PyTorch 2.0.1 with CUDA 11.1 (cu118)\n",
        "!pip install -q torch==2.0.1+cu118 -f https://download.pytorch.org/whl/cu118/torch_stable.html\n"
      ],
      "metadata": {
        "id": "Foz8ERab14Nv"
      },
      "execution_count": null,
      "outputs": []
    },
    {
      "cell_type": "code",
      "source": [
        "# Install tokenizers 0.10.1\n",
        "!pip install -q -U tokenizers==0.10.1 > /dev/null\n",
        "\n",
        "# Install transformers 4.11.2\n",
        "!pip install -q -U transformers==4.11.2 > /dev/null\n",
        "\n",
        "# Install simpletransformers 0.61.14\n",
        "!pip install -q -U simpletransformers==0.61.14 > /dev/null"
      ],
      "metadata": {
        "id": "WG6LLzN82NZr"
      },
      "execution_count": null,
      "outputs": []
    },
    {
      "cell_type": "code",
      "source": [],
      "metadata": {
        "id": "P1pIPBCg2HOQ"
      },
      "execution_count": null,
      "outputs": []
    },
    {
      "cell_type": "code",
      "source": [
        "import numpy as np\n",
        "import pandas as pd\n",
        "import os, json, gc, re, random\n",
        "from tqdm.notebook import tqdm\n",
        "from sklearn.model_selection import train_test_split\n",
        "\n",
        "import matplotlib.pyplot as plt\n",
        "%matplotlib inline\n",
        "import plotly.express as px\n",
        "\n",
        "import warnings\n",
        "warnings.filterwarnings(\"ignore\")\n",
        "\n",
        "import logging\n",
        "logging.basicConfig(level=logging.INFO)\n",
        "transformers_logger = logging.getLogger(\"transformers\")\n",
        "transformers_logger.setLevel(logging.WARNING)\n"
      ],
      "metadata": {
        "id": "jHh5FksS2YYu"
      },
      "execution_count": null,
      "outputs": []
    },
    {
      "cell_type": "code",
      "source": [
        "import torch, transformers, tokenizers\n",
        "torch.__version__, transformers.__version__, tokenizers.__version__"
      ],
      "metadata": {
        "id": "HG1kX92Y2SGv"
      },
      "execution_count": null,
      "outputs": []
    },
    {
      "cell_type": "code",
      "source": [
        "from google.colab import files\n",
        "uploaded = files.upload()"
      ],
      "metadata": {
        "id": "mhV6yEj12XOZ"
      },
      "execution_count": null,
      "outputs": []
    },
    {
      "cell_type": "code",
      "source": [
        "\n",
        "df=pd.read_csv('wiki_movie_plots_deduped.csv', low_memory=False)\n",
        "\n",
        "df\n",
        "\n",
        "# Dataset is now stored in a Pandas Dataframe"
      ],
      "metadata": {
        "id": "0w8Yaese2xfT"
      },
      "execution_count": null,
      "outputs": []
    },
    {
      "cell_type": "code",
      "source": [
        "movies_df = df[[\"Plot\", \"Title\"]]\n",
        "movies_df.columns = ['input_text', 'target_text']\n",
        "movies_df"
      ],
      "metadata": {
        "id": "oOcxUcldTqWU"
      },
      "execution_count": null,
      "outputs": []
    },
    {
      "cell_type": "code",
      "source": [
        "# Drop rows 5 to 7 (inclusive)\n",
        "movies_df= movies_df.drop(movies_df.index[21000:34886])\n",
        "\n",
        "eval_dataset = movies_df.sample(frac=0.2, random_state=42)\n",
        "train_dataset = movies_df.drop(eval_dataset.index)"
      ],
      "metadata": {
        "id": "iw1NxkZkTqYX"
      },
      "execution_count": null,
      "outputs": []
    },
    {
      "cell_type": "code",
      "source": [
        "movies_df"
      ],
      "metadata": {
        "id": "3ThG8wt1rqeu"
      },
      "execution_count": null,
      "outputs": []
    },
    {
      "cell_type": "code",
      "source": [
        "device = torch.device(\"cuda\" if torch.cuda.is_available() else \"cpu\")\n",
        "print(\"Device:\", device)"
      ],
      "metadata": {
        "id": "fkBCw4m-_6ok"
      },
      "execution_count": null,
      "outputs": []
    },
    {
      "cell_type": "code",
      "source": [
        "from simpletransformers.seq2seq import Seq2SeqModel\n",
        "model_args = {\n",
        "    \"learning_rate\": 1e-4,\n",
        "    \"reprocess_input_data\": True,\n",
        "    \"overwrite_output_dir\": True,\n",
        "    \"save_model_every_epoch\": False,\n",
        "    \"save_eval_checkpoints\": False,\n",
        "    \"max_seq_length\": 512,\n",
        "    \"train_batch_size\": 8,\n",
        "    \"num_train_epochs\": 2,\n",
        "}\n",
        "model_name = \"facebook/bart-base\""
      ],
      "metadata": {
        "id": "lJLDeM_ETqaf"
      },
      "execution_count": null,
      "outputs": []
    },
    {
      "cell_type": "code",
      "source": [
        "model = Seq2SeqModel(encoder_decoder_type=\"bart\",\n",
        "                    encoder_decoder_name=model_name,\n",
        "                    args=model_args)"
      ],
      "metadata": {
        "id": "cDKlyfJSTqcr"
      },
      "execution_count": null,
      "outputs": []
    },
    {
      "cell_type": "code",
      "source": [
        "%%time\n",
        "model.train_model(train_dataset)\n",
        "\n"
      ],
      "metadata": {
        "id": "7o_KrFpXTqeq"
      },
      "execution_count": null,
      "outputs": []
    },
    {
      "cell_type": "code",
      "source": [
        "# Evaluate the model\n",
        "result = model.eval_model(eval_dataset)\n",
        "print(result)"
      ],
      "metadata": {
        "id": "K3vZFv_mrXk2"
      },
      "execution_count": null,
      "outputs": []
    },
    {
      "cell_type": "markdown",
      "source": [],
      "metadata": {
        "id": "wUjLegR_8OU9"
      }
    },
    {
      "cell_type": "code",
      "source": [
        "\n",
        "# Mount Google Drive\n",
        "from google.colab import drive\n",
        "drive.mount('/content/drive')\n",
        "\n",
        "# Create the parent directory if it doesn't exist\n",
        "parent_dir = \"/content/drive/My Drive/path/to/save\"\n",
        "os.makedirs(parent_dir, exist_ok=True)\n",
        "\n",
        "model_path = os.path.join(parent_dir, \"your_model.pt\")\n",
        "torch.save(model, model_path)\n"
      ],
      "metadata": {
        "id": "ySVfrAMW8PGr"
      },
      "execution_count": null,
      "outputs": []
    },
    {
      "cell_type": "code",
      "source": [
        "\n",
        "plot=\"\"\" Titanic is a 1997 American epic romantic disaster movie. It was directed, written, and co-produced by James Cameron. The movie is about the 1912 sinking of the RMS Titanic. It stars Kate Winslet and Leonardo DiCaprio. The two play characters who are of different social classes. They fall in love after meeting aboard the ship, but it was not good for a rich girl to fall in love with a poor boy in 1912. Titanic runned for 200 days in uae Production of the movie began in 1995. Cameron recorded footage of the real Titanic wreck. The reconstruction of the Titanic was created at Playas de Rosarito in Baja California. To create the sinking of the ship, scale models and computer-generated imagery were used. Paramount Pictures and 20th Century Fox helped with half of the funding for the movie. At the time when the movie was released, it was the most expensive movie ever made. It had a budget of $200 million.\"\"\"\n",
        "predicted_title = model.predict([plot])[0]\n",
        "print(f'Predicted Title: {predicted_title}\\n')\n",
        "print(f'Plot: {plot}\\n\\n\\n')"
      ],
      "metadata": {
        "id": "gqFFLktZTqiH"
      },
      "execution_count": null,
      "outputs": []
    },
    {
      "cell_type": "code",
      "source": [],
      "metadata": {
        "id": "f7rFJ9W2TqlM"
      },
      "execution_count": null,
      "outputs": []
    }
  ]
}